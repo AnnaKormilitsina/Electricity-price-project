{
 "cells": [
  {
   "cell_type": "code",
   "execution_count": 1,
   "metadata": {},
   "outputs": [],
   "source": [
    "import matplotlib.pyplot as plt\n",
    "import numpy as np\n",
    "import pandas as pd\n",
    "from datetime import datetime"
   ]
  },
  {
   "cell_type": "code",
   "execution_count": 2,
   "metadata": {},
   "outputs": [],
   "source": [
    "# Load Electricity price data, 15 minute interval over two years: 2016 and 2017:\n",
    "import zipfile\n",
    "with zipfile.ZipFile(\"C:/Users/anutako/Dropbox/jm2017/data_incubator/Electricity_Prices/rpt.00013061.0000000000000000.20180101.082427782.RTMLZHBSPP_2017.zip\") as z:\n",
    "    with z.open(\"rpt.00013061.0000000000000000.RTMLZHBSPP_2017.xlsx\") as f:\n",
    "        dset_electr_pr2017 = pd.ExcelFile(f)\n",
    "with zipfile.ZipFile(\"C:/Users/anutako/Dropbox/jm2017/data_incubator/Electricity_Prices/rpt.00013061.0000000000000000.20170101.083302375.RTMLZHBSPP_2016.zip\") as z:\n",
    "    with z.open(\"rpt.00013061.0000000000000000.RTMLZHBSPP_2016.xlsx\") as f:\n",
    "        dset_electr_pr2016 = pd.ExcelFile(f)"
   ]
  },
  {
   "cell_type": "code",
   "execution_count": 3,
   "metadata": {},
   "outputs": [],
   "source": [
    "# Load Weather Temperature data, hourly, from 2012 till the end of November 2017:\n",
    "with zipfile.ZipFile(\"C:/Users/anutako/Dropbox/jm2017/data_incubator/Weather_data/historical-hourly-weather-data.zip\") as z:\n",
    "    with z.open(\"temperature.csv\") as f:\n",
    "        dset_tempr = pd.read_csv(f, header=0, delimiter=\",\")\n",
    "    with z.open(\"weather_description.csv\") as f:\n",
    "        dset_weather_descr = pd.read_csv(f, header=0, delimiter=\",\")\n",
    "    with z.open(\"wind_direction.csv\") as f:\n",
    "        dset_wind_dir = pd.read_csv(f, header=0, delimiter=\",\")\n",
    "    with z.open(\"wind_speed.csv\") as f:\n",
    "        dset_wind_speed = pd.read_csv(f, header=0, delimiter=\",\")"
   ]
  },
  {
   "cell_type": "code",
   "execution_count": 4,
   "metadata": {},
   "outputs": [],
   "source": [
    "#Create one datasets for Electricity prices out of two\n",
    "sh_names2016  = dset_electr_pr2016.sheet_names\n",
    "sh_names_len = len(sh_names2016)\n",
    "dset = pd.DataFrame([])\n",
    "for i in range(sh_names_len):\n",
    "    dset = dset.append(dset_electr_pr2016.parse(sh_names2016[i]))\n",
    "sh_names2017  = dset_electr_pr2017.sheet_names\n",
    "sh_names_len = len(sh_names2017)\n",
    "for i in range(sh_names_len):\n",
    "    dset = dset.append(dset_electr_pr2017.parse(sh_names2017[i]))\n",
    "dset_shape = dset.shape"
   ]
  },
  {
   "cell_type": "code",
   "execution_count": 5,
   "metadata": {},
   "outputs": [],
   "source": [
    "# Data manipulation to create index for Electricity Price dataset\n",
    "dset[\"Delivery Interval\"] = dset[\"Delivery Interval\"].replace([1, 2, 3, 4], [':00', ':15', ':30', ':45'])\n",
    "dset[\"Delivery Hour\"] = dset[\"Delivery Hour\"].replace(range(1,25), range(24))\n",
    "dset[\"Delivery Time\"] = dset[\"Delivery Date\"].astype('str') + ' ' +dset[\"Delivery Hour\"].astype(str) + dset[\"Delivery Interval\"]\n",
    "dset[\"Delivery Time\"] = pd.to_datetime(dset[\"Delivery Time\"])\n",
    "dset = dset.drop(columns = [\"Delivery Date\", \"Delivery Hour\", \"Delivery Interval\" ])\n",
    "dset.set_index(\"Delivery Time\" , inplace=True)"
   ]
  },
  {
   "cell_type": "code",
   "execution_count": 6,
   "metadata": {},
   "outputs": [
    {
     "name": "stdout",
     "output_type": "stream",
     "text": [
      "['HB_BUSAVG' 'HB_HOUSTON' 'HB_HUBAVG' 'HB_NORTH' 'HB_SOUTH' 'HB_WEST'\n",
      " 'LZ_AEN' 'LZ_CPS' 'LZ_HOUSTON' 'LZ_LCRA' 'LZ_NORTH' 'LZ_RAYBN' 'LZ_SOUTH'\n",
      " 'LZ_WEST' nan]\n"
     ]
    },
    {
     "data": {
      "text/html": [
       "<div>\n",
       "<style scoped>\n",
       "    .dataframe tbody tr th:only-of-type {\n",
       "        vertical-align: middle;\n",
       "    }\n",
       "\n",
       "    .dataframe tbody tr th {\n",
       "        vertical-align: top;\n",
       "    }\n",
       "\n",
       "    .dataframe thead th {\n",
       "        text-align: right;\n",
       "    }\n",
       "</style>\n",
       "<table border=\"1\" class=\"dataframe\">\n",
       "  <thead>\n",
       "    <tr style=\"text-align: right;\">\n",
       "      <th></th>\n",
       "      <th>Settlement Point Price</th>\n",
       "    </tr>\n",
       "  </thead>\n",
       "  <tbody>\n",
       "    <tr>\n",
       "      <th>count</th>\n",
       "      <td>70176.000000</td>\n",
       "    </tr>\n",
       "    <tr>\n",
       "      <th>mean</th>\n",
       "      <td>25.790757</td>\n",
       "    </tr>\n",
       "    <tr>\n",
       "      <th>std</th>\n",
       "      <td>57.466030</td>\n",
       "    </tr>\n",
       "    <tr>\n",
       "      <th>min</th>\n",
       "      <td>-96.680000</td>\n",
       "    </tr>\n",
       "    <tr>\n",
       "      <th>25%</th>\n",
       "      <td>17.150000</td>\n",
       "    </tr>\n",
       "    <tr>\n",
       "      <th>50%</th>\n",
       "      <td>19.860000</td>\n",
       "    </tr>\n",
       "    <tr>\n",
       "      <th>75%</th>\n",
       "      <td>24.260000</td>\n",
       "    </tr>\n",
       "    <tr>\n",
       "      <th>max</th>\n",
       "      <td>3159.680000</td>\n",
       "    </tr>\n",
       "  </tbody>\n",
       "</table>\n",
       "</div>"
      ],
      "text/plain": [
       "       Settlement Point Price\n",
       "count            70176.000000\n",
       "mean                25.790757\n",
       "std                 57.466030\n",
       "min                -96.680000\n",
       "25%                 17.150000\n",
       "50%                 19.860000\n",
       "75%                 24.260000\n",
       "max               3159.680000"
      ]
     },
     "execution_count": 6,
     "metadata": {},
     "output_type": "execute_result"
    }
   ],
   "source": [
    "# Extract data for Houston Settlement Point\n",
    "SPnames = dset[\"Settlement Point Name\"].unique()\n",
    "print(SPnames)\n",
    "dset_houston = dset[dset[\"Settlement Point Name\"] == SPnames[1]]\n",
    "dset_houston.describe()"
   ]
  },
  {
   "cell_type": "code",
   "execution_count": 7,
   "metadata": {},
   "outputs": [
    {
     "name": "stdout",
     "output_type": "stream",
     "text": [
      "count    70176.000000\n",
      "mean        25.790757\n",
      "std         57.466030\n",
      "min        -96.680000\n",
      "1%          -0.030000\n",
      "5%          11.600000\n",
      "10%         14.110000\n",
      "25%         17.150000\n",
      "50%         19.860000\n",
      "75%         24.260000\n",
      "90%         31.470000\n",
      "95%         37.662500\n",
      "97%         47.397500\n",
      "99%        130.552500\n",
      "max       3159.680000\n",
      "Name: Settlement Point Price, dtype: float64\n"
     ]
    }
   ],
   "source": [
    "price_HF = dset_houston[\"Settlement Point Price\"]\n",
    "print(price_HF.describe(percentiles = [0.01, 0.05, 0.1, 0.25, 0.5, 0.75, 0.9, 0.95, 0.97, 0.99]))\n",
    "\n",
    "price_quantile99 = price_HF.quantile(q=0.99)\n",
    "price_quantile97 = price_HF.quantile(q=0.97)\n",
    "price_quantile90 = price_HF.quantile(q=0.90)\n",
    "price_quantile05 = price_HF.quantile(q=0.05)\n",
    "price_quantile02 = price_HF.quantile(q=0.02)"
   ]
  },
  {
   "cell_type": "code",
   "execution_count": 8,
   "metadata": {},
   "outputs": [
    {
     "data": {
      "image/png": "[encoded data removed]",
      "text/plain": [
       "<Figure size 720x1152 with 2 Axes>"
      ]
     },
     "metadata": {},
     "output_type": "display_data"
    }
   ],
   "source": [
    "price_outlier99 = price_HF[price_HF>price_quantile99 ]\n",
    "price_outlier97 = price_HF[price_HF>price_quantile97 ]\n",
    "price_outlier90 = price_HF[price_HF>price_quantile90 ]\n",
    "price_outlier02 = price_HF[price_HF<price_quantile02 ]\n",
    "hour_dist_99 = price_outlier99.groupby(price_outlier99.index.hour).count().rename('Hour_Dist_99')\n",
    "hour_dist_97 = price_outlier97.groupby(price_outlier97.index.hour).count().rename('Hour_Dist_97')\n",
    "hour_dist_90 = price_outlier90.groupby(price_outlier90.index.hour).count().rename('Hour_Dist_90')\n",
    "hour_dist_02 = price_outlier02.groupby(price_outlier02.index.hour).count().rename('Hour_Dist_02')\n",
    "\n",
    "hours_dist = pd.concat([hour_dist_02, hour_dist_90,hour_dist_97,hour_dist_99],axis = 1,join = 'outer')\n",
    "hours_dist = hours_dist.fillna(0)\n",
    "\n",
    "objects = tuple([ str(i) for i in range(24) ])\n",
    "y_pos = np.arange(len(objects))\n",
    "\n",
    "plt.rcParams['figure.figsize'] = 10, 16\n",
    "\n",
    "fig = plt.figure()\n",
    "plt.subplot(2,1,1)\n",
    "plt.plot(price_HF)\n",
    "plt.title('Wholesale Electricity Price at 15 min. intervals')\n",
    "plt.subplot(2,1,2)\n",
    "\n",
    "plt.bar(y_pos, hours_dist['Hour_Dist_97'], align='center', alpha=0.5)\n",
    "plt.xticks(y_pos, objects)\n",
    "plt.ylabel('Outlier Count')\n",
    "plt.xlabel('Hour of Day')\n",
    "plt.title('Peak Price Outliers (top 3%)')\n",
    "plt.show()"
   ]
  }
 ],
 "metadata": {
  "kernelspec": {
   "display_name": "Python 3",
   "language": "python",
   "name": "python3"
  },
  "language_info": {
   "codemirror_mode": {
    "name": "ipython",
    "version": 3
   },
   "file_extension": ".py",
   "mimetype": "text/x-python",
   "name": "python",
   "nbconvert_exporter": "python",
   "pygments_lexer": "ipython3",
   "version": "3.6.5"
  }
 },
 "nbformat": 4,
 "nbformat_minor": 2
}
